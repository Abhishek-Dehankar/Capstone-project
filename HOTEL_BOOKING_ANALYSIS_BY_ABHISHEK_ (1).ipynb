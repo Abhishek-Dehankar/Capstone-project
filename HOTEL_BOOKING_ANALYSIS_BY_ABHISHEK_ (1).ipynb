{
  "nbformat": 4,
  "nbformat_minor": 0,
  "metadata": {
    "colab": {
      "private_outputs": true,
      "provenance": [],
      "collapsed_sections": [
        "gIfDvo9L0UH2"
      ]
    },
    "kernelspec": {
      "name": "python3",
      "display_name": "Python 3"
    },
    "language_info": {
      "name": "python"
    }
  },
  "cells": [
    {
      "cell_type": "markdown",
      "source": [
        "# **Project Name**    - **Hotel Booking Analysis**\n",
        "\n"
      ],
      "metadata": {
        "id": "vncDsAP0Gaoa"
      }
    },
    {
      "cell_type": "markdown",
      "source": [
        "##### **Project Type**    - Capstone project / EDA\n",
        "##### **Contribution**    - Individual\n",
        "##### **Presented by** - Abhishek Dehankar\n"
      ],
      "metadata": {
        "id": "beRrZCGUAJYm"
      }
    },
    {
      "cell_type": "markdown",
      "source": [
        "#**Project Summary** -\n",
        "\n",
        "### The hotel booking analysis project involved exploring a dataset of booking information for a city hotel and a resort hotel. The goal was to understand factors influencing hotel bookings, cancellations, length of stay, meal preferences, customer types, and more.\n",
        "\n",
        "### Using Python's pandas library, the dataset was loaded and examined to gain an initial understanding. Data cleaning was performed to handle missing values, outliers, and inconsistencies.\n",
        "\n",
        "### Visualizations using matplotlib and seaborn were created to analyze the data. Key questions explored included the distribution of bookings between resort and city hotels, cancellation rates, seasonal patterns, lead time's impact on cancellations, and the relationship between guest count and meal preferences.\n",
        "\n",
        "### The project also investigated market segments, distribution channels, room types, deposit types, booking changes, customer types, and car parking requirements to understand their influence on bookings and cancellations.\n",
        "\n",
        "###The project's findings highlighted the dominance of city hotel bookings, lower cancellation rates for resort hotels, seasonal variations in booking volumes, and the importance of early bookings to reduce cancellations. It also revealed insights into guest demographics, preferences, and the impact of various factors on booking behavior.\n",
        "\n",
        "###The analysis provided valuable insights for hotel managers and marketers to optimize pricing strategies, improve guest experiences, and manage cancellations effectively.\n",
        "\n",
        "###In conclusion, the hotel booking analysis project utilized Python's pandas, matplotlib, and seaborn libraries to explore the dataset, uncover patterns, and provide data-driven insights for the hotel industry."
      ],
      "metadata": {
        "id": "FJNUwmbgGyua"
      }
    },
    {
      "cell_type": "markdown",
      "source": [
        "# **GitHub Link -**"
      ],
      "metadata": {
        "id": "w6K7xa23Elo4"
      }
    },
    {
      "cell_type": "markdown",
      "source": [
        "https://github.com/Abhishek-Dehankar/Capstone-project.git"
      ],
      "metadata": {
        "id": "h1o69JH3Eqqn"
      }
    },
    {
      "cell_type": "markdown",
      "source": [
        "# **Problem Statement**\n"
      ],
      "metadata": {
        "id": "yQaldy8SH6Dl"
      }
    },
    {
      "cell_type": "markdown",
      "source": [
        "Have you ever wondered when the best time of year to book a hotel room is? Or the optimal length of stay in order to get the best daily rate? What if you wanted to predict whether or not a hotel was likely to receive a disproportionately high number of special requests? This hotel booking dataset can help you explore those questions!\n",
        "This data set contains booking information for a city hotel and a resort hotel, and includes information such as when the booking was made, length of stay, the number of adults, children, and/or babies, and the number of available parking spaces, among other things. All personally identifying information has been removed from the data.\n",
        "Explore and analyze the data to discover important factors that govern the bookings."
      ],
      "metadata": {
        "id": "DpeJGUA3kjGy"
      }
    },
    {
      "cell_type": "markdown",
      "source": [
        "#### **Define Your Business Objective?**"
      ],
      "metadata": {
        "id": "PH-0ReGfmX4f"
      }
    },
    {
      "cell_type": "markdown",
      "source": [
        "Gain insights into hotel booking factors to optimize operations, improve customer satisfaction, and enhance revenue in the hotel industry."
      ],
      "metadata": {
        "id": "PhDvGCAqmjP1"
      }
    },
    {
      "cell_type": "markdown",
      "source": [
        "# **General Guidelines** : -"
      ],
      "metadata": {
        "id": "mDgbUHAGgjLW"
      }
    },
    {
      "cell_type": "markdown",
      "source": [
        "1.   Well-structured, formatted, and commented code is required.\n",
        "2.   Exception Handling, Production Grade Code & Deployment Ready Code will be a plus. Those students will be awarded some additional credits.\n",
        "\n",
        "     The additional credits will have advantages over other students during Star Student selection.\n",
        "\n",
        "             [ Note: - Deployment Ready Code is defined as, the whole .ipynb notebook should be executable in one go\n",
        "                       without a single error logged. ]\n",
        "\n",
        "3.   Each and every logic should have proper comments.\n",
        "4. You may add as many number of charts you want. Make Sure for each and every chart the following format should be answered.\n",
        "\n",
        "\n",
        "```\n",
        "# Chart visualization code\n",
        "```\n",
        "\n",
        "\n",
        "*   Why did you pick the specific chart?\n",
        "*   What is/are the insight(s) found from the chart?\n",
        "* Will the gained insights help creating a positive business impact?\n",
        "Are there any insights that lead to negative growth? Justify with specific reason.\n",
        "\n",
        "5. You have to create at least 20 logical & meaningful charts having important insights.\n",
        "\n",
        "\n",
        "[ Hints : - Do the Vizualization in  a structured way while following \"UBM\" Rule.\n",
        "\n",
        "U - Univariate Analysis,\n",
        "\n",
        "B - Bivariate Analysis (Numerical - Categorical, Numerical - Numerical, Categorical - Categorical)\n",
        "\n",
        "M - Multivariate Analysis\n",
        " ]\n",
        "\n",
        "\n",
        "\n"
      ],
      "metadata": {
        "id": "ZrxVaUj-hHfC"
      }
    },
    {
      "cell_type": "markdown",
      "source": [
        "# ***Let's Begin !***"
      ],
      "metadata": {
        "id": "O_i_v8NEhb9l"
      }
    },
    {
      "cell_type": "markdown",
      "source": [
        "## ***1. Know Your Data***"
      ],
      "metadata": {
        "id": "HhfV-JJviCcP"
      }
    },
    {
      "cell_type": "markdown",
      "source": [
        "### Import Libraries"
      ],
      "metadata": {
        "id": "Y3lxredqlCYt"
      }
    },
    {
      "cell_type": "code",
      "source": [
        "# Import Libraries\n",
        "import numpy as np\n",
        "import pandas as pd\n",
        "import matplotlib.pyplot as plt\n",
        "import seaborn as sns"
      ],
      "metadata": {
        "id": "M8Vqi-pPk-HR"
      },
      "execution_count": null,
      "outputs": []
    },
    {
      "cell_type": "markdown",
      "source": [
        "### Dataset Loading"
      ],
      "metadata": {
        "id": "3RnN4peoiCZX"
      }
    },
    {
      "cell_type": "code",
      "source": [
        "# Load Dataset from Google Drive\n",
        "from google.colab import drive\n",
        "drive.mount('/content/drive')"
      ],
      "metadata": {
        "id": "4CkvbW_SlZ_R"
      },
      "execution_count": null,
      "outputs": []
    },
    {
      "cell_type": "code",
      "source": [
        "# Read Hotel Booking Analysis CSV\n",
        "# HBA-Hotel Booking Analysis\n",
        "Hotel_booking_analysis_data ='/content/drive/MyDrive/1 My project/Hotel Bookings.csv'\n",
        "HBA_df=pd.read_csv(Hotel_booking_analysis_data)"
      ],
      "metadata": {
        "id": "qsEB5XB28MBT"
      },
      "execution_count": null,
      "outputs": []
    },
    {
      "cell_type": "markdown",
      "source": [
        "### Dataset First View"
      ],
      "metadata": {
        "id": "x71ZqKXriCWQ"
      }
    },
    {
      "cell_type": "code",
      "source": [
        "# HBA-Hotel Booking Analysis\n",
        "HBA_df.head()"
      ],
      "metadata": {
        "id": "Cg4ijAZr9oRY"
      },
      "execution_count": null,
      "outputs": []
    },
    {
      "cell_type": "code",
      "source": [
        "HBA_df.tail()"
      ],
      "metadata": {
        "id": "MS3vUYEg9s66"
      },
      "execution_count": null,
      "outputs": []
    },
    {
      "cell_type": "markdown",
      "source": [
        "### Dataset Rows & Columns count"
      ],
      "metadata": {
        "id": "7hBIi_osiCS2"
      }
    },
    {
      "cell_type": "code",
      "source": [
        "# with the help of shape we count Rows & Columns in Datasets\n",
        "HBA_df.shape #(Rows -119390 ,Columns -32 )"
      ],
      "metadata": {
        "id": "Kllu7SJgmLij"
      },
      "execution_count": null,
      "outputs": []
    },
    {
      "cell_type": "markdown",
      "source": [
        "### Dataset Information"
      ],
      "metadata": {
        "id": "JlHwYmJAmNHm"
      }
    },
    {
      "cell_type": "code",
      "source": [
        "# Dataset Info\n",
        "HBA_df.info()"
      ],
      "metadata": {
        "id": "e9hRXRi6meOf"
      },
      "execution_count": null,
      "outputs": []
    },
    {
      "cell_type": "code",
      "source": [
        "HBA_df.describe()"
      ],
      "metadata": {
        "id": "7-HmJB58Cz3r"
      },
      "execution_count": null,
      "outputs": []
    },
    {
      "cell_type": "markdown",
      "source": [
        "### Creating copy of Dataset"
      ],
      "metadata": {
        "id": "jyzdlKx5IyYC"
      }
    },
    {
      "cell_type": "code",
      "source": [
        "#creating copy of original data\n",
        "# name change HBA_df to H_df\n",
        "H_df=HBA_df.copy()\n",
        "H_df.head()"
      ],
      "metadata": {
        "id": "ixn8cQj-JCmA"
      },
      "execution_count": null,
      "outputs": []
    },
    {
      "cell_type": "markdown",
      "source": [
        "#### Duplicate Values"
      ],
      "metadata": {
        "id": "35m5QtbWiB9F"
      }
    },
    {
      "cell_type": "code",
      "source": [
        "# Dataset Duplicate Value Count\n",
        "duplicate_values = H_df.duplicated().value_counts()\n",
        "duplicate_values"
      ],
      "metadata": {
        "id": "W97hw46IMdtH"
      },
      "execution_count": null,
      "outputs": []
    },
    {
      "cell_type": "code",
      "source": [
        "#removing duolicate values\n",
        "H_df.drop_duplicates(inplace=True)"
      ],
      "metadata": {
        "id": "Yv-jiY5JNhBS"
      },
      "execution_count": null,
      "outputs": []
    },
    {
      "cell_type": "code",
      "source": [
        "# View unique data\n",
        "unique_num_of_rows = H_df.shape[0]"
      ],
      "metadata": {
        "id": "aJtluvU_N9_h"
      },
      "execution_count": null,
      "outputs": []
    },
    {
      "cell_type": "code",
      "source": [
        "unique_num_of_rows"
      ],
      "metadata": {
        "id": "CtGR1xoMEP3v"
      },
      "execution_count": null,
      "outputs": []
    },
    {
      "cell_type": "markdown",
      "source": [
        "#### Missing Values/Null Values"
      ],
      "metadata": {
        "id": "PoPl-ycgm1ru"
      }
    },
    {
      "cell_type": "code",
      "source": [
        "#missing values count\n",
        "missing_value =H_df.isnull().sum().sort_values(ascending=False)[:5]\n",
        "missing_value"
      ],
      "metadata": {
        "id": "3gWc3n3pN5Fh"
      },
      "execution_count": null,
      "outputs": []
    },
    {
      "cell_type": "code",
      "source": [
        "# Create the bar plot\n",
        "sns.barplot(x=missing_value.values, y=missing_value.index)\n",
        "\n",
        "# Set plot title and axis labels\n",
        "plt.title(\"Missing Values\")\n",
        "plt.xlabel(\"Count\")\n",
        "plt.ylabel(\"Columns\")\n",
        "\n",
        "# Display the plot\n",
        "plt.show()"
      ],
      "metadata": {
        "id": "ep1iwmahrdUM"
      },
      "execution_count": null,
      "outputs": []
    },
    {
      "cell_type": "markdown",
      "source": [
        "### What did you know about your dataset?"
      ],
      "metadata": {
        "id": "H0kj-8xxnORC"
      }
    },
    {
      "cell_type": "markdown",
      "source": [
        "This data set contains a single file which compares various booking information between two hotels: a city hotel and a resort hotel. Includes information such as when the booking was made , length of stay, the number of adults, children and/or babies and the number of available parking spaces, among other things. The dataset contains a total of 119390 rows and 32 columns. Dataset contains duplicated items i.e 31944 which is removed later. In this dataset we find data types of every columns i.e (int,float,string) and observe that some columns data types is not accurate and remove later. We find unique value of every columns it means what actual values in every columns."
      ],
      "metadata": {
        "id": "gfoNAAC-nUe_"
      }
    },
    {
      "cell_type": "markdown",
      "source": [
        "## ***2. Understanding Your Variables***"
      ],
      "metadata": {
        "id": "nA9Y7ga8ng1Z"
      }
    },
    {
      "cell_type": "code",
      "source": [
        "# Dataset Columns\n",
        "H_df.columns"
      ],
      "metadata": {
        "id": "j7xfkqrt5Ag5"
      },
      "execution_count": null,
      "outputs": []
    },
    {
      "cell_type": "code",
      "source": [
        "# Dataset Describe\n",
        "H_df.describe()"
      ],
      "metadata": {
        "id": "DnOaZdaE5Q5t"
      },
      "execution_count": null,
      "outputs": []
    },
    {
      "cell_type": "markdown",
      "source": [
        "### Variables Description"
      ],
      "metadata": {
        "id": "PBTbrJXOngz2"
      }
    },
    {
      "cell_type": "markdown",
      "source": [
        "The columns and the data it represents are listed below:\n",
        "\n",
        "    1.hotel : Name of the hotel (Resort Hotel or City Hotel)\n",
        "\n",
        "    2.is_canceled : If the booking was canceled (1) or not (0)\n",
        "\n",
        "    3.lead_time: Number of days before the actual arrival of the guests\n",
        "\n",
        "    4.arrival_date_year : Year of arrival date\n",
        "\n",
        "    5.arrival_date_month : Month of month arrival date\n",
        "\n",
        "    6.arrival_date_week_number : Week number of year for arrival date\n",
        "\n",
        "    7.arrival_date_day_of_month : Day of arrival date\n",
        "\n",
        "    8.stays_in_weekend_nights : Number of weekend nights (Saturday or Sunday) spent at the hotel by the guests.\n",
        "\n",
        "    9.stays_in_week_nights : Number of weeknights (Monday to Friday) spent at the hotel by the guests.\n",
        "\n",
        "    10.adults : Number of adults among guests\n",
        "\n",
        "    11.children : Number of children among guests\n",
        "\n",
        "    12.babies : Number of babies among guests\n",
        "\n",
        "    13.meal : Type of meal booked\n",
        "\n",
        "    14.country : Country of guests\n",
        "\n",
        "    15.market_segment : Designation of market segment\n",
        "\n",
        "    16.distribution_channel : Name of booking distribution channel\n",
        "\n",
        "    17.is_repeated_guest : If the booking was from a repeated guest (1) or not (0)\n",
        "\n",
        "    18.previous_cancellations : Number of previous bookings that were cancelled by the customer prior to the current booking\n",
        "\n",
        "    19.previous_bookings_not_canceled : Number of previous bookings not cancelled by the customer prior to the current booking\n",
        "\n",
        "    20.reserved_room_type : Code of room type reserved\n",
        "\n",
        "    21.assigned_room_type : Code of room type assigned\n",
        "\n",
        "    22.booking_changes : Number of changes/amendments made to the booking\n",
        "\n",
        "    23.deposit_type : Type of the deposit made by the guest\n",
        "\n",
        "    24.agent : ID of travel agent who made the booking\n",
        "\n",
        "    25.company : ID of the company that made the booking\n",
        "\n",
        "    26.days_in_waiting_list : Number of days the booking was in the waiting list\n",
        "\n",
        "    27.customer_type : Type of customer, assuming one of four categories\n",
        "\n",
        "    28.adr : Average Daily Rate, as defined by dividing the sum of all lodging transactions by the total number of staying nights\n",
        "\n",
        "    29.required_car_parking_spaces : Number of car parking spaces required by the customer\n",
        "\n",
        "    30.total_of_special_requests : Number of special requests made by the customer\n",
        "\n",
        "    31.reservation_status : Reservation status (Canceled, Check-Out or No-Show)\n",
        "\n",
        "    32.reservation_status_date : Date at which the last reservation status was updated **bold text**"
      ],
      "metadata": {
        "id": "aJV4KIxSnxay"
      }
    },
    {
      "cell_type": "markdown",
      "source": [
        "### Check Unique Values for each variable."
      ],
      "metadata": {
        "id": "u3PMJOP6ngxN"
      }
    },
    {
      "cell_type": "code",
      "source": [
        "# Check Unique Values for each variable.\n",
        "print(H_df.apply(lambda col: col.unique()))"
      ],
      "metadata": {
        "id": "zms12Yq5n-jE"
      },
      "execution_count": null,
      "outputs": []
    },
    {
      "cell_type": "code",
      "source": [
        "# we have count total unique values as per column\n",
        "for i in H_df.columns.tolist():\n",
        "   print('Number of unique values', i, 'is', H_df[i].nunique())"
      ],
      "metadata": {
        "id": "VXqRvHwaCfGH"
      },
      "execution_count": null,
      "outputs": []
    },
    {
      "cell_type": "markdown",
      "source": [
        "## 3. ***Data Wrangling***"
      ],
      "metadata": {
        "id": "dauF4eBmngu3"
      }
    },
    {
      "cell_type": "markdown",
      "source": [
        "### Data Wrangling Code"
      ],
      "metadata": {
        "id": "bKJF3rekwFvQ"
      }
    },
    {
      "cell_type": "code",
      "source": [
        "# Write your code to make your dataset analysis ready.\n",
        "missing_value[:4]"
      ],
      "metadata": {
        "id": "wk-9a2fpoLcV"
      },
      "execution_count": null,
      "outputs": []
    },
    {
      "cell_type": "code",
      "source": [
        "#percent of unique value after removing null\n",
        "percentage_company_null = missing_value[0] / unique_num_of_rows*100\n",
        "percentage_company_null"
      ],
      "metadata": {
        "id": "Fj0rkH9uAcHc"
      },
      "execution_count": null,
      "outputs": []
    },
    {
      "cell_type": "code",
      "source": [
        "# It is better to drop the column 'company' altogether since the number of missing values is extremely high compared to the number of rows.\n",
        "H_df.drop(['company'], axis=1, inplace=True)"
      ],
      "metadata": {
        "id": "MmKnBd128YGS"
      },
      "execution_count": null,
      "outputs": []
    },
    {
      "cell_type": "code",
      "source": [
        "# now let's check for after removing company\n",
        "\n",
        "percentage_agent_null = missing_value[1] / unique_num_of_rows*100\n",
        "percentage_agent_null"
      ],
      "metadata": {
        "id": "BSWo_faDF-R8"
      },
      "execution_count": null,
      "outputs": []
    },
    {
      "cell_type": "code",
      "source": [
        "# As we have seen, there is minimul null values in agent, Lets fill these value by taking mode of the all values\n",
        "\n",
        "H_df['agent'].fillna(value = 0, inplace = True)\n",
        "H_df['agent'].isnull().sum() # we re-check that column has no null value"
      ],
      "metadata": {
        "id": "iiFr5WoPGRpt"
      },
      "execution_count": null,
      "outputs": []
    },
    {
      "cell_type": "code",
      "source": [
        "#Check the percentage null value in country col\n",
        "\n",
        "percentage_country_null = missing_value[2] / unique_num_of_rows*100\n",
        "percentage_country_null"
      ],
      "metadata": {
        "id": "BaSRgdKlgarP"
      },
      "execution_count": null,
      "outputs": []
    },
    {
      "cell_type": "code",
      "source": [
        "# We have less null vlues in country col, so we will replace null from 'other' as country name.\n",
        "\n",
        "H_df['country'].fillna(value = 'others', inplace = True)\n",
        "H_df['country'].isnull().sum() # we re-check that column has no null value\n"
      ],
      "metadata": {
        "id": "RB63zfIfgn84"
      },
      "execution_count": null,
      "outputs": []
    },
    {
      "cell_type": "code",
      "source": [
        "#Check the percentage null value in children col\n",
        "\n",
        "percentage_children_null = missing_value[3] / unique_num_of_rows*100\n",
        "percentage_children_null"
      ],
      "metadata": {
        "id": "ZU2bPfwuhUx3"
      },
      "execution_count": null,
      "outputs": []
    },
    {
      "cell_type": "code",
      "source": [
        "# We have less null vlues in country col, so we will replace null from 0 as country name.\n",
        "\n",
        "H_df['children'].fillna(value = 0, inplace = True)\n",
        "H_df['children'].isnull().sum() # we re-check that column has no null value\n"
      ],
      "metadata": {
        "id": "QkJHToxjhbRY"
      },
      "execution_count": null,
      "outputs": []
    },
    {
      "cell_type": "code",
      "source": [
        "#let's check whether database having any other null value\n",
        "\n",
        "H_df.isnull().sum() # As we have seen, no column has any null value"
      ],
      "metadata": {
        "id": "uK7GhABvhkbb"
      },
      "execution_count": null,
      "outputs": []
    },
    {
      "cell_type": "code",
      "source": [
        "#showing the info of the data to check datatype\n",
        "H_df.info()"
      ],
      "metadata": {
        "id": "2X2iWiN1hqpv"
      },
      "execution_count": null,
      "outputs": []
    },
    {
      "cell_type": "code",
      "source": [
        "# We have seen that childer & agent column as datatype as float whereas it contains only int value, lets change datatype as 'int64'\n",
        "H_df[['children', 'agent']] = H_df[['children', 'agent']].astype('int64')"
      ],
      "metadata": {
        "id": "6GtPhNVEiNq-"
      },
      "execution_count": null,
      "outputs": []
    },
    {
      "cell_type": "markdown",
      "source": [
        "# Adding new columns for data understanding"
      ],
      "metadata": {
        "id": "hXgzObD-i5NW"
      }
    },
    {
      "cell_type": "code",
      "source": [
        "#total stay in nights\n",
        "H_df['total_stay_in_nights'] = H_df ['stays_in_week_nights'] + H_df ['stays_in_weekend_nights']\n",
        "pd.DataFrame(H_df['total_stay_in_nights'] )# We have created a col for total stays in nights by adding week night & weekend nights stay col."
      ],
      "metadata": {
        "id": "W5r0ddciiSqT"
      },
      "execution_count": null,
      "outputs": []
    },
    {
      "cell_type": "code",
      "source": [
        "# We have created a col for revenue using total stay * adr\n",
        "H_df['revenue'] = H_df['total_stay_in_nights'] *H_df['adr']\n",
        "pd.DataFrame(H_df['revenue'])"
      ],
      "metadata": {
        "id": "3aVB4BxTjfb9"
      },
      "execution_count": null,
      "outputs": []
    },
    {
      "cell_type": "code",
      "source": [
        "# Also, for information, we will add a column with total guest coming for each booking\n",
        "H_df['total_guest'] = H_df['adults'] + H_df['children'] + H_df['babies']\n",
        "H_df['total_guest'].sum()"
      ],
      "metadata": {
        "id": "BGsSE7gCkHkw"
      },
      "execution_count": null,
      "outputs": []
    },
    {
      "cell_type": "code",
      "source": [
        "# for understanding, from col 'is_canceled': we will replace the value from (0,1) to not_canceled, is canceled.\n",
        "H_df['is_canceled'] = H_df['is_canceled'].replace([0,1], ['not canceled', 'is canceled'])\n",
        "pd.DataFrame(H_df['is_canceled'])"
      ],
      "metadata": {
        "id": "piK25FVrvHbN"
      },
      "execution_count": null,
      "outputs": []
    },
    {
      "cell_type": "code",
      "source": [
        "#Same for 'is_repeated_guest' col\n",
        "H_df['is_repeated_guest'] = H_df['is_repeated_guest'].replace([0,1], ['not repeated', 'repeated'])\n",
        "pd.DataFrame(H_df['is_repeated_guest'])"
      ],
      "metadata": {
        "id": "KinmsR6lkVC5"
      },
      "execution_count": null,
      "outputs": []
    },
    {
      "cell_type": "code",
      "source": [
        "H_df[['hotel', \"revenue\"]]"
      ],
      "metadata": {
        "id": "1MAuKMxWk0T2"
      },
      "execution_count": null,
      "outputs": []
    },
    {
      "cell_type": "code",
      "source": [
        "#Now, we will check overall revenue hotel wise\n",
        "hotel_wise_total_revenue = H_df.groupby('hotel')['revenue'].sum()\n",
        "hotel_wise_total_revenue"
      ],
      "metadata": {
        "id": "PDmcom7ckiiW"
      },
      "execution_count": null,
      "outputs": []
    },
    {
      "cell_type": "markdown",
      "source": [
        "### What all manipulations have you done and insights you found?"
      ],
      "metadata": {
        "id": "MSa1f5Uengrz"
      }
    },
    {
      "cell_type": "markdown",
      "source": [
        "We have done few manipulations in the Data.\n",
        "\n",
        "**----Addition of columns----**\n",
        "\n",
        "We have seen that there are few columns required in Data to analysis purpose which can be evaluated from the given columns.\n",
        "\n",
        "  a) Total Guests: This columns will help us to evaluate the volumes of total guest and revenue as well. We get this value by adding total no. of Adults, Children & babies.\n",
        "\n",
        "  b) Revenue: We find revenue by multiplying adr & total guest. This column will use to analyse the profit and growth of each hotel.\n",
        "\n",
        "**----Delete of columns----**\n",
        "\n",
        "  a)company: As we have seen that this columns has almost Null data. so we have delete this column as this will not make any impact in the analysis.\n",
        "\n",
        "**----Replace of Values in columns----**\n",
        "\n",
        "  a)is_canceled, is_not_canceled & is_repeated_guest: We have seen, that these columns contains only 0,1 as values which represent the status of booing cancellation. We replace these values (0,1) from 'Canceled' & 'Not canceled. In the same way for column 'is_repeated_guest', we replace 0,1 from 'Repeated' & 'Not repeated'. Now this values will help to make better understanding while visulization.\n",
        "\n",
        "**----Changes in data type of values in columns----**\n",
        "\n",
        "  a)Agent & Children: We checked that these columns contains float values, which is not making any sense in data as this values repreasent the count of guest & ID of agent. So we have changed the data type of these columns from 'float' to 'Integer'.\n",
        "\n",
        "**----Removed is_null values & duplicate entries---**-\n",
        "\n",
        "  a)Before visualize any data from the data set we have to do data wrangling. For that, we have checked the null value in all the columns. After checking, when we are getting a column which has more number of null values, dropped that column by using the 'drop' method. In this way, we are dropped the 'company' column. When we are find minimal number of null values, filling thse null values with necesary values as per requirement by using .fillna().\n",
        "\n",
        "  b) In the same, we have checked if there is any duplicacy in data & we found that there are few rows have duplicate data. So we have removed those row from data set by using .drop_duplicates() method.\n",
        "\n",
        "In this way, we have removed unneccesary data & make our data clean and ready to analyse."
      ],
      "metadata": {
        "id": "LbyXE7I1olp8"
      }
    },
    {
      "cell_type": "markdown",
      "source": [
        "## ***4. Data Vizualization, Storytelling & Experimenting with charts : Understand the relationships between variables***"
      ],
      "metadata": {
        "id": "GF8Ens_Soomf"
      }
    },
    {
      "cell_type": "markdown",
      "source": [
        "#### Chart - 1"
      ],
      "metadata": {
        "id": "0wOQAZs5pc--"
      }
    },
    {
      "cell_type": "markdown",
      "source": [
        "1) Which type of hotel is mostly prefered by the guests?"
      ],
      "metadata": {
        "id": "t3HN6CMO88VN"
      }
    },
    {
      "cell_type": "code",
      "source": [
        "# Chart - 1 visualization code\n",
        "hotel_value_counts = H_df['hotel'].value_counts()\n",
        "hotel_value_counts"
      ],
      "metadata": {
        "id": "7v_ESjsspbW7"
      },
      "execution_count": null,
      "outputs": []
    },
    {
      "cell_type": "code",
      "source": [
        "# piechart is used for visualization\n",
        "hotel_value_counts.plot.pie(explode=[0.05, 0.05], autopct='%1.2f%%', figsize=(6,6),fontsize=10,colors = ('lightblue', 'lightcoral'))\n",
        "plt.title('Hotel Booking Percentages',fontsize = 15)"
      ],
      "metadata": {
        "id": "k-FrE9qp0Soj"
      },
      "execution_count": null,
      "outputs": []
    },
    {
      "cell_type": "markdown",
      "source": [
        "##### 1. Why did you pick the specific chart?"
      ],
      "metadata": {
        "id": "K5QZ13OEpz2H"
      }
    },
    {
      "cell_type": "markdown",
      "source": [
        "pie chart is simple and easy to understand data in percentage ( % ) format and that shows which hotel has more bookings."
      ],
      "metadata": {
        "id": "XESiWehPqBRc"
      }
    },
    {
      "cell_type": "markdown",
      "source": [
        "##### 2. What is/are the insight(s) found from the chart?"
      ],
      "metadata": {
        "id": "lQ7QKXXCp7Bj"
      }
    },
    {
      "cell_type": "markdown",
      "source": [
        "We found that city hotel Booking more as compare to resort hotel.\n",
        "\n",
        "city hotel-61.13%\n",
        "\n",
        "resort hotel-38.87%."
      ],
      "metadata": {
        "id": "C_j1G7yiqdRP"
      }
    },
    {
      "cell_type": "markdown",
      "source": [
        "##### 3. Will the gained insights help creating a positive business impact?\n",
        "Are there any insights that lead to negative growth? Justify with specific reason."
      ],
      "metadata": {
        "id": "448CDAPjqfQr"
      }
    },
    {
      "cell_type": "markdown",
      "source": [
        "Yes, gained insights help creating a positive business impact.\n",
        "\n",
        "City hotel can find more services to attract more guests to increase more revenue.\n",
        "\n",
        "Resort hotel can find solution to attract guest and also find which facilities provided ny city hotel to attract the guest."
      ],
      "metadata": {
        "id": "3cspy4FjqxJW"
      }
    },
    {
      "cell_type": "markdown",
      "source": [
        "#### Chart - 2"
      ],
      "metadata": {
        "id": "KSlN3yHqYklG"
      }
    },
    {
      "cell_type": "markdown",
      "source": [
        "2) hotel booking percentage of guests?"
      ],
      "metadata": {
        "id": "OC8jQN9E9Fav"
      }
    },
    {
      "cell_type": "code",
      "source": [
        "# Chart - 2 visualization code\n",
        "hotel_cancellation = H_df['is_canceled'].value_counts()\n",
        "H_df['is_canceled'].replace({0: 'not canceled :', 1: 'canceled :'}, inplace=True)\n",
        "hotel_cancellation"
      ],
      "metadata": {
        "id": "3Z7kWa6B--Hv"
      },
      "execution_count": null,
      "outputs": []
    },
    {
      "cell_type": "code",
      "source": [
        "# piechart is used for visualization\n",
        "# round figuring autopct by %1.f%%.\n",
        "hotel_cancellation.plot.pie(autopct='%1.f%%', figsize=(6,6),fontsize=10,colors = ('lightblue', 'lightcoral'))\n",
        "plt.title('Cancellation percentage rate of Hotel',fontsize =15)"
      ],
      "metadata": {
        "id": "qd7WXUxJ_PTX"
      },
      "execution_count": null,
      "outputs": []
    },
    {
      "cell_type": "markdown",
      "source": [
        "##### 1. Why did you pick the specific chart?"
      ],
      "metadata": {
        "id": "t6dVpIINYklI"
      }
    },
    {
      "cell_type": "markdown",
      "source": [
        "with the help of pie chart showing Cancellation percentage rate of Hotel"
      ],
      "metadata": {
        "id": "5aaW0BYyYklI"
      }
    },
    {
      "cell_type": "markdown",
      "source": [
        "##### 2. What is/are the insight(s) found from the chart?"
      ],
      "metadata": {
        "id": "ijmpgYnKYklI"
      }
    },
    {
      "cell_type": "markdown",
      "source": [
        "Here, we found that overall more than 27% of booking got cancelled"
      ],
      "metadata": {
        "id": "PSx9atu2YklI"
      }
    },
    {
      "cell_type": "markdown",
      "source": [
        "##### 3. Will the gained insights help creating a positive business impact?\n",
        "Are there any insights that lead to negative growth? Justify with specific reason."
      ],
      "metadata": {
        "id": "-JiQyfWJYklI"
      }
    },
    {
      "cell_type": "markdown",
      "source": [
        "Here, we can see, that more than 27% booking getting cancelled.\n",
        "\n",
        "Solution:\n",
        "\n",
        "1.Identify common cancellation reasons\n",
        "\n",
        "2.Improve pricing and offers\n",
        "\n",
        "3.Enhance customer satisfaction\n",
        "\n",
        "4.Flexible cancellation policy\n",
        "\n",
        "5.Improve communication\n",
        "\n",
        "6.Monitor competitor trends\n",
        "\n",
        "7.Loyalty programs"
      ],
      "metadata": {
        "id": "BcBbebzrYklV"
      }
    },
    {
      "cell_type": "markdown",
      "source": [
        "#### Chart - 3"
      ],
      "metadata": {
        "id": "EM7whBJCYoAo"
      }
    },
    {
      "cell_type": "markdown",
      "source": [
        "3) What is the most prefered room type by the customers?"
      ],
      "metadata": {
        "id": "BXjpsHbYKyKB"
      }
    },
    {
      "cell_type": "code",
      "source": [
        "# Chart - 3 visualization code\n",
        "room_type = H_df['assigned_room_type'].value_counts()\n",
        "room_type"
      ],
      "metadata": {
        "id": "t6GMdE67YoAp"
      },
      "execution_count": null,
      "outputs": []
    },
    {
      "cell_type": "code",
      "source": [
        "# countlot is used for visualization of most preferred room type\n",
        "plt.figure(figsize=(14,7))\n",
        "sns.countplot(x=H_df['assigned_room_type'],order=H_df['assigned_room_type'].value_counts().index)\n",
        "plt.title(\"Most preferred Room type\", fontsize = 20)\n",
        "plt.xlabel('Type of the Room', fontsize = 15)\n",
        "plt.ylabel('Room type count', fontsize = 15)"
      ],
      "metadata": {
        "id": "UtbHt2TrK7L7"
      },
      "execution_count": null,
      "outputs": []
    },
    {
      "cell_type": "markdown",
      "source": [
        "##### 1. Why did you pick the specific chart?"
      ],
      "metadata": {
        "id": "fge-S5ZAYoAp"
      }
    },
    {
      "cell_type": "markdown",
      "source": [
        "We have choose countplot to visualize most prefferd roomtype because countplot display the count of each observation for each category and here we have to represent room type vs room type count."
      ],
      "metadata": {
        "id": "5dBItgRVYoAp"
      }
    },
    {
      "cell_type": "markdown",
      "source": [
        "##### 2. What is/are the insight(s) found from the chart?"
      ],
      "metadata": {
        "id": "85gYPyotYoAp"
      }
    },
    {
      "cell_type": "markdown",
      "source": [
        "The insighte found from the chart is A type rooms are most prefered rooms and the count is 46313 and after that D type rooms are prefered by the guest and count is 22432."
      ],
      "metadata": {
        "id": "4jstXR6OYoAp"
      }
    },
    {
      "cell_type": "markdown",
      "source": [
        "##### 3. Will the gained insights help creating a positive business impact?\n",
        "Are there any insights that lead to negative growth? Justify with specific reason."
      ],
      "metadata": {
        "id": "RoGjAbkUYoAp"
      }
    },
    {
      "cell_type": "markdown",
      "source": [
        "Hotels can provide those facilities in other room types which provided in room type A"
      ],
      "metadata": {
        "id": "zfJ8IqMcYoAp"
      }
    },
    {
      "cell_type": "markdown",
      "source": [
        "#### Chart - 4"
      ],
      "metadata": {
        "id": "4Of9eVA-YrdM"
      }
    },
    {
      "cell_type": "markdown",
      "source": [
        "4) What type of food is mostly prefered by the guests?"
      ],
      "metadata": {
        "id": "E3mqc3-7L5h_"
      }
    },
    {
      "cell_type": "code",
      "source": [
        "# Chart - 4 visualization code\n",
        "preferred_food = H_df['meal'].value_counts()\n",
        "preferred_food"
      ],
      "metadata": {
        "id": "irlUoxc8YrdO"
      },
      "execution_count": null,
      "outputs": []
    },
    {
      "cell_type": "code",
      "source": [
        "# Visualization of most preferred food using countplot\n",
        "plt.figure(figsize=(14,7))\n",
        "sns.countplot(x=H_df['meal'],order=H_df['meal'].value_counts().index)\n",
        "plt.title(\"Most preferred Food\", fontsize = 20)\n",
        "plt.xlabel('Type of the food')\n",
        "plt.ylabel('Food type count')"
      ],
      "metadata": {
        "id": "RH4izhUIMA0T"
      },
      "execution_count": null,
      "outputs": []
    },
    {
      "cell_type": "markdown",
      "source": [
        "##### 1. Why did you pick the specific chart?"
      ],
      "metadata": {
        "id": "iky9q4vBYrdO"
      }
    },
    {
      "cell_type": "markdown",
      "source": [
        "We have choose countplot to visualize most preferred food because countplot display the count of each observation for each category and here we have to represent food type vs food type count."
      ],
      "metadata": {
        "id": "aJRCwT6DYrdO"
      }
    },
    {
      "cell_type": "markdown",
      "source": [
        "##### 2. What is/are the insight(s) found from the chart?"
      ],
      "metadata": {
        "id": "F6T5p64dYrdO"
      }
    },
    {
      "cell_type": "markdown",
      "source": [
        "The insight found here is BB type food is most preferred."
      ],
      "metadata": {
        "id": "Xx8WAJvtYrdO"
      }
    },
    {
      "cell_type": "markdown",
      "source": [
        "##### 3. Will the gained insights help creating a positive business impact?\n",
        "Are there any insights that lead to negative growth? Justify with specific reason."
      ],
      "metadata": {
        "id": "y-Ehk30pYrdP"
      }
    },
    {
      "cell_type": "markdown",
      "source": [
        "Using this insight hotels can improve quality of other type of meals"
      ],
      "metadata": {
        "id": "jLNxxz7MYrdP"
      }
    },
    {
      "cell_type": "markdown",
      "source": [
        "#### Chart - 5"
      ],
      "metadata": {
        "id": "bamQiAODYuh1"
      }
    },
    {
      "cell_type": "markdown",
      "source": [
        "5) In which month most of the bookings happened?"
      ],
      "metadata": {
        "id": "tJTcnwUQMw6h"
      }
    },
    {
      "cell_type": "code",
      "source": [
        "# Chart - 5 visualization code\n",
        "# using groupby on arrival_date_month and taking the hotel count\n",
        "bookings_by_months_df = H_df.groupby(['arrival_date_month'])['hotel'].count().reset_index().rename(columns={'hotel':\"counts\"})\n",
        "\n",
        "# create list of months in order\n",
        "months = ['January','February','March','April','May','June','July','August','September','October','November','December']\n",
        "\n",
        "# creating df which will map the order of above months list without changing its values.\n",
        "bookings_by_months_df['arrival_date_month']=pd.Categorical(bookings_by_months_df['arrival_date_month'],categories=months,ordered=True)\n",
        "\n",
        "#sorting by arrival date month\n",
        "bookings_by_months_df=bookings_by_months_df.sort_values('arrival_date_month')\n",
        "\n",
        "bookings_by_months_df"
      ],
      "metadata": {
        "id": "TIJwrbroYuh3"
      },
      "execution_count": null,
      "outputs": []
    },
    {
      "cell_type": "code",
      "source": [
        "# set plot size\n",
        "plt.figure(figsize=(20,8))\n",
        "\n",
        "#plotting lineplot on x-months & y-booking counts\n",
        "sns.barplot(x=bookings_by_months_df['arrival_date_month'],\n",
        "            y=bookings_by_months_df['counts'])\n",
        "\n",
        "# set title for the plot\n",
        "plt.title('Number of booking across each month', fontsize=15)\n",
        "\n",
        "# set x labels\n",
        "plt.xlabel('Month', fontsize=15)\n",
        "\n",
        "# set y lables\n",
        "plt.ylabel('Number of bookings', fontsize=15)"
      ],
      "metadata": {
        "id": "gDdqP9ttNJed"
      },
      "execution_count": null,
      "outputs": []
    },
    {
      "cell_type": "markdown",
      "source": [
        "##### 1. Why did you pick the specific chart?"
      ],
      "metadata": {
        "id": "QHF8YVU7Yuh3"
      }
    },
    {
      "cell_type": "markdown",
      "source": [
        "We choose barplot here because it gives data visualization in pictorial form. So comparison becomes easy."
      ],
      "metadata": {
        "id": "dcxuIMRPYuh3"
      }
    },
    {
      "cell_type": "markdown",
      "source": [
        "##### 2. What is/are the insight(s) found from the chart?"
      ],
      "metadata": {
        "id": "GwzvFGzlYuh3"
      }
    },
    {
      "cell_type": "markdown",
      "source": [
        "The insight found from the chart is August month has maximum number of bookings"
      ],
      "metadata": {
        "id": "uyqkiB8YYuh3"
      }
    },
    {
      "cell_type": "markdown",
      "source": [
        "##### 3. Will the gained insights help creating a positive business impact?\n",
        "Are there any insights that lead to negative growth? Justify with specific reason."
      ],
      "metadata": {
        "id": "qYpmQ266Yuh3"
      }
    },
    {
      "cell_type": "markdown",
      "source": [
        "It is clear that yes,this provides a good insights that hotels should be well prepared for month of july and August as maximum bookings takes place for this months.So,better the prepartion and good approach will definetely adds to the growth of Hotels."
      ],
      "metadata": {
        "id": "_WtzZ_hCYuh4"
      }
    },
    {
      "cell_type": "markdown",
      "source": [
        "#### Chart - 6"
      ],
      "metadata": {
        "id": "PIIx-8_IphqN"
      }
    },
    {
      "cell_type": "markdown",
      "source": [
        "6) which year had highest bookings?"
      ],
      "metadata": {
        "id": "7RdnTCFQjYL7"
      }
    },
    {
      "cell_type": "code",
      "source": [
        "# Chart - 6 visualization code\n",
        "year_count = H_df['arrival_date_year'].value_counts().sort_index()\n",
        "year_count"
      ],
      "metadata": {
        "id": "lqAIGUfyphqO"
      },
      "execution_count": null,
      "outputs": []
    },
    {
      "cell_type": "code",
      "source": [
        "# Visualization of year wise booking using countplot chart\n",
        "plt.figure(figsize=(14,7))\n",
        "sns.countplot(x=H_df['arrival_date_year'],hue=H_df['hotel'])\n",
        "plt.title('Year wise Bookings', fontsize = 20)\n",
        "plt.xlabel('Arrival_date_year', fontsize = 15)\n",
        "plt.ylabel('Count of bookings', fontsize = 15)"
      ],
      "metadata": {
        "id": "0yTRVk9GlhfS"
      },
      "execution_count": null,
      "outputs": []
    },
    {
      "cell_type": "markdown",
      "source": [
        "##### 1. Why did you pick the specific chart?"
      ],
      "metadata": {
        "id": "t27r6nlMphqO"
      }
    },
    {
      "cell_type": "markdown",
      "source": [
        "Because countplot is easy to understand."
      ],
      "metadata": {
        "id": "iv6ro40sphqO"
      }
    },
    {
      "cell_type": "markdown",
      "source": [
        "##### 2. What is/are the insight(s) found from the chart?"
      ],
      "metadata": {
        "id": "r2jJGEOYphqO"
      }
    },
    {
      "cell_type": "markdown",
      "source": [
        "2016 had highest bookings and 2015 had lowest bookings."
      ],
      "metadata": {
        "id": "Po6ZPi4hphqO"
      }
    },
    {
      "cell_type": "markdown",
      "source": [
        "##### 3. Will the gained insights help creating a positive business impact?\n",
        "Are there any insights that lead to negative growth? Justify with specific reason."
      ],
      "metadata": {
        "id": "b0JNsNcRphqO"
      }
    },
    {
      "cell_type": "markdown",
      "source": [
        "* Year 2016 had highest bookings this makes positive impact.\n",
        "\n",
        "* Year 2015 had lowest bookings this makes negative impact\n",
        "\n",
        "* In 2016 there were 42391 bookings and In 2015 there were 13313 bookings.\n",
        "\n",
        "\n"
      ],
      "metadata": {
        "id": "xvSq8iUTphqO"
      }
    },
    {
      "cell_type": "markdown",
      "source": [
        "#### Chart - 7"
      ],
      "metadata": {
        "id": "OH-pJp9IphqM"
      }
    },
    {
      "cell_type": "markdown",
      "source": [
        "7) Which distribution channel is mostly used for hotel booking?"
      ],
      "metadata": {
        "id": "TDxdqvCAOo-Y"
      }
    },
    {
      "cell_type": "code",
      "source": [
        "# Chart - 7 visualization code\n",
        "# distribution channel value count\n",
        "distribution_channel_counts = H_df['distribution_channel'].value_counts()\n",
        "distribution_channel_counts"
      ],
      "metadata": {
        "id": "0UzSRObPiKqS"
      },
      "execution_count": null,
      "outputs": []
    },
    {
      "cell_type": "code",
      "source": [
        "pd.DataFrame(distribution_channel_counts).reset_index().rename(columns={'index':\"distribution_channel\",'distribution_channel':'count'})"
      ],
      "metadata": {
        "id": "kuRf4wtuphqN"
      },
      "execution_count": null,
      "outputs": []
    },
    {
      "cell_type": "code",
      "source": [
        "#shape of dataframe\n",
        "dataframe_shape= H_df.shape[0]\n",
        "dataframe_shape"
      ],
      "metadata": {
        "id": "64aFu4NCO_w2"
      },
      "execution_count": null,
      "outputs": []
    },
    {
      "cell_type": "code",
      "source": [
        "# booking by distribution channel in percent\n",
        "distribution_channel_df_percent = pd.DataFrame(round((distribution_channel_counts/dataframe_shape)*100,2)).reset_index().rename(columns={'index':'distribution_channel','distribution_channel':'% booking'})\n",
        "distribution_channel_df_percent"
      ],
      "metadata": {
        "id": "YvjijnzWiFHL"
      },
      "execution_count": null,
      "outputs": []
    },
    {
      "cell_type": "code",
      "source": [
        "#Visualization of mostly used distribution channels using barplot\n",
        "plt.figure(figsize=(14,7))\n",
        "sns.barplot(data=distribution_channel_df_percent, x=\"distribution_channel\", y=\"% booking\")\n",
        "plt.title(\"Mostly used distribution Channels\", fontsize = 20)\n",
        "plt.xlabel('Distribution Channel', fontsize = 15)\n",
        "plt.ylabel('Booking by distribution channel in percent', fontsize = 15)"
      ],
      "metadata": {
        "id": "iYocwOB2QdR1"
      },
      "execution_count": null,
      "outputs": []
    },
    {
      "cell_type": "markdown",
      "source": [
        "##### 1. Why did you pick the specific chart?"
      ],
      "metadata": {
        "id": "bbFf2-_FphqN"
      }
    },
    {
      "cell_type": "markdown",
      "source": [
        "Because barplot gives simple and easy to understand pictorial chart."
      ],
      "metadata": {
        "id": "loh7H2nzphqN"
      }
    },
    {
      "cell_type": "markdown",
      "source": [
        "##### 2. What is/are the insight(s) found from the chart?"
      ],
      "metadata": {
        "id": "_ouA3fa0phqN"
      }
    },
    {
      "cell_type": "markdown",
      "source": [
        "Mostly used distribution channel is TA/TO channel.The total count of booking is 69141 and booking in percent is 79.11."
      ],
      "metadata": {
        "id": "VECbqPI7phqN"
      }
    },
    {
      "cell_type": "markdown",
      "source": [
        "##### 3. Will the gained insights help creating a positive business impact?\n",
        "Are there any insights that lead to negative growth? Justify with specific reason."
      ],
      "metadata": {
        "id": "Seke61FWphqN"
      }
    },
    {
      "cell_type": "markdown",
      "source": [
        "This insight help to other channels to improve their services."
      ],
      "metadata": {
        "id": "DW4_bGpfphqN"
      }
    },
    {
      "cell_type": "markdown",
      "source": [
        "#### Chart - 8"
      ],
      "metadata": {
        "id": "BZR9WyysphqO"
      }
    },
    {
      "cell_type": "markdown",
      "source": [
        "8) percent of repeated hotel booked by guest?"
      ],
      "metadata": {
        "id": "frUJu-3NpoTV"
      }
    },
    {
      "cell_type": "code",
      "source": [
        "# Chart - 8 visualization code\n",
        "hotel_guest = H_df['is_repeated_guest'].value_counts()\n",
        "hotel_guest"
      ],
      "metadata": {
        "id": "TdPTWpAVphqO"
      },
      "execution_count": null,
      "outputs": []
    },
    {
      "cell_type": "code",
      "source": [
        "# piechart is used for visualization\n",
        "hotel_guest.plot.pie(explode=[0.05, 0.05], autopct='%1.2f%%', figsize=(6,6),fontsize=10,startangle=90)\n",
        "plt.title('Hotel_repeated_guest_status',fontsize = 15)"
      ],
      "metadata": {
        "id": "I_OnacQGnWyV"
      },
      "execution_count": null,
      "outputs": []
    },
    {
      "cell_type": "markdown",
      "source": [
        "##### 1. Why did you pick the specific chart?"
      ],
      "metadata": {
        "id": "jj7wYXLtphqO"
      }
    },
    {
      "cell_type": "markdown",
      "source": [
        "To show the percentage share of repeated & non-repeated guests."
      ],
      "metadata": {
        "id": "Ob8u6rCTphqO"
      }
    },
    {
      "cell_type": "markdown",
      "source": [
        "##### 2. What is/are the insight(s) found from the chart?"
      ],
      "metadata": {
        "id": "eZrbJ2SmphqO"
      }
    },
    {
      "cell_type": "markdown",
      "source": [
        "Here, we can see that the number of repeated guests is very less as compared to overall guests."
      ],
      "metadata": {
        "id": "mZtgC_hjphqO"
      }
    },
    {
      "cell_type": "markdown",
      "source": [
        "##### 3. Will the gained insights help creating a positive business impact?\n",
        "Are there any insights that lead to negative growth? Justify with specific reason."
      ],
      "metadata": {
        "id": "rFu4xreNphqO"
      }
    },
    {
      "cell_type": "markdown",
      "source": [
        "We can give alluring offers to non-repetitive customers during Off seasons to enhance revenue."
      ],
      "metadata": {
        "id": "ey_0qi68phqO"
      }
    },
    {
      "cell_type": "markdown",
      "source": [
        "#### Chart - 9"
      ],
      "metadata": {
        "id": "U2RJ9gkRphqQ"
      }
    },
    {
      "cell_type": "markdown",
      "source": [
        "9) Which hotel type has the highest ADR?\n",
        "\n",
        "ADR=Average Daily Rate"
      ],
      "metadata": {
        "id": "r9nSNOZNqAfc"
      }
    },
    {
      "cell_type": "code",
      "source": [
        "# Chart - 9 visualization code\n",
        "highest_adr = H_df.groupby('hotel')['adr'].mean().reset_index()\n",
        "highest_adr"
      ],
      "metadata": {
        "id": "B2aS4O1ophqO"
      },
      "execution_count": null,
      "outputs": []
    },
    {
      "cell_type": "code",
      "source": [
        "# hotel revenues\n",
        "plt.figure(figsize = (5,3))\n",
        "hotel_wise_revenue = H_df.groupby('hotel')['revenue'].sum()\n",
        "hotel_wise_revenue\n",
        "ax = hotel_wise_revenue.plot(kind = 'bar',color = ('lightblue', 'lightcoral'))\n",
        "plt.xlabel(\"Hotel\", fontdict={'fontsize': 12, 'fontweight' : 5, 'color' : 'Brown'})\n",
        "plt.ylabel(\"Total Revenue\", fontdict={'fontsize': 12, 'fontweight' : 5, 'color' : 'Brown'} )\n",
        "plt.title(\"Total Revenue\", fontdict={'fontsize': 12, 'fontweight' : 5, 'color' : 'Green'} )"
      ],
      "metadata": {
        "id": "GM7a4YP4phqQ"
      },
      "execution_count": null,
      "outputs": []
    },
    {
      "cell_type": "code",
      "source": [
        "# Visualization of highest adr using barplot\n",
        "plt.figure(figsize=(14,7))\n",
        "sns.barplot(x=highest_adr['hotel'],y=highest_adr['adr'])\n",
        "plt.title('Average ADR for each Hotel type', fontsize=20)\n",
        "plt.xlabel('Type of hotel',fontsize=15)\n",
        "plt.ylabel('ADR', fontsize=15)\n",
        "plt.show()"
      ],
      "metadata": {
        "id": "qJ7QVpwgslSk"
      },
      "execution_count": null,
      "outputs": []
    },
    {
      "cell_type": "markdown",
      "source": [
        "##### 1. Why did you pick the specific chart?"
      ],
      "metadata": {
        "id": "gCFgpxoyphqP"
      }
    },
    {
      "cell_type": "markdown",
      "source": [
        "I choose bar plot because it gives simple pictorial diagram and it also easy to understand."
      ],
      "metadata": {
        "id": "TVxDimi2phqP"
      }
    },
    {
      "cell_type": "markdown",
      "source": [
        "##### 2. What is/are the insight(s) found from the chart?"
      ],
      "metadata": {
        "id": "OVtJsKN_phqQ"
      }
    },
    {
      "cell_type": "markdown",
      "source": [
        "The insight found from the chart is City hotel has highest adr that means city hotel generate more revenue."
      ],
      "metadata": {
        "id": "ngGi97qjphqQ"
      }
    },
    {
      "cell_type": "markdown",
      "source": [
        "##### 3. Will the gained insights help creating a positive business impact?\n",
        "Are there any insights that lead to negative growth? Justify with specific reason."
      ],
      "metadata": {
        "id": "lssrdh5qphqQ"
      }
    },
    {
      "cell_type": "markdown",
      "source": [
        "* City hotel has high adr this makes positive impact.\n",
        "* Resort hotel has less adr as compaire to city hotel this makes negative impact.\n",
        "* City hotel has adr 110.98 means more revenue and resort hotel has 99.02 adr means less revenue than city hotel.\n",
        "* Resort hotel should have increase there facilitis which increase revenue."
      ],
      "metadata": {
        "id": "tBpY5ekJphqQ"
      }
    },
    {
      "cell_type": "markdown",
      "source": [
        "#### Chart - 10"
      ],
      "metadata": {
        "id": "x-EpHcCOp1ci"
      }
    },
    {
      "cell_type": "markdown",
      "source": [
        "10) which hotel has longer waiting time?"
      ],
      "metadata": {
        "id": "pFuD1nWgvyKo"
      }
    },
    {
      "cell_type": "code",
      "source": [
        "# Chart - 10 visualization code\n",
        "Waiting_time = H_df.groupby('hotel')['days_in_waiting_list'].mean().reset_index()\n",
        "Waiting_time"
      ],
      "metadata": {
        "id": "mAQTIvtqp1cj"
      },
      "execution_count": null,
      "outputs": []
    },
    {
      "cell_type": "code",
      "source": [
        "# Visualization of hotel which has longer waiting time by using barplot\n",
        "plt.figure(figsize=(14,7))\n",
        "sns.barplot(x=Waiting_time['hotel'],y=Waiting_time['days_in_waiting_list'])\n",
        "plt.title('Waiting time for each hotel type', fontsize=20)\n",
        "plt.xlabel('Type of hotel',fontsize=15)\n",
        "plt.ylabel('Waiting time', fontsize=15)"
      ],
      "metadata": {
        "id": "hWG4rT9wv8AJ"
      },
      "execution_count": null,
      "outputs": []
    },
    {
      "cell_type": "markdown",
      "source": [
        "##### 1. Why did you pick the specific chart?"
      ],
      "metadata": {
        "id": "X_VqEhTip1ck"
      }
    },
    {
      "cell_type": "markdown",
      "source": [
        "I choose barplot bacuase it gives easy to understand pictorial diagram for the visualization of which hotel has longer waiting time."
      ],
      "metadata": {
        "id": "-vsMzt_np1ck"
      }
    },
    {
      "cell_type": "markdown",
      "source": [
        "##### 2. What is/are the insight(s) found from the chart?"
      ],
      "metadata": {
        "id": "8zGJKyg5p1ck"
      }
    },
    {
      "cell_type": "markdown",
      "source": [
        "City hotel has longer waiting time.Therefore city hotel is much busier than Resort hotel."
      ],
      "metadata": {
        "id": "ZYdMsrqVp1ck"
      }
    },
    {
      "cell_type": "markdown",
      "source": [
        "##### 3. Will the gained insights help creating a positive business impact?\n",
        "Are there any insights that lead to negative growth? Justify with specific reason."
      ],
      "metadata": {
        "id": "PVzmfK_Ep1ck"
      }
    },
    {
      "cell_type": "markdown",
      "source": [
        "* City hotel has longer waiting time this makes positive impact on business.\n",
        "* Resort hotel has less waiting time this makes negative impact on business.\n",
        "* The mean of days in waiting list for city hotel is about 1.02 and for resort hotel is about 0.32.\n",
        "* Resort hotel need to increase their facilities so that their bookings increases"
      ],
      "metadata": {
        "id": "druuKYZpp1ck"
      }
    },
    {
      "cell_type": "markdown",
      "source": [
        "#### Chart - 11"
      ],
      "metadata": {
        "id": "n3dbpmDWp1ck"
      }
    },
    {
      "cell_type": "markdown",
      "source": [
        "11) Which distribution channel contributed more to adr in order to increase the income?"
      ],
      "metadata": {
        "id": "qcp899P3wihx"
      }
    },
    {
      "cell_type": "code",
      "source": [
        "# Chart - 11 visualization code\n",
        "distribution_channel = H_df.groupby(['distribution_channel','hotel'])['adr'].mean().reset_index()\n",
        "distribution_channel"
      ],
      "metadata": {
        "id": "bwevp1tKp1ck"
      },
      "execution_count": null,
      "outputs": []
    },
    {
      "cell_type": "code",
      "source": [
        "# Visualization of contribution of distribution channel in adr using barplot\n",
        "plt.figure(figsize=(14,7))\n",
        "sns.barplot(x='distribution_channel',y='adr', data=distribution_channel,hue='hotel')\n",
        "plt.title('ADR across Distribution channel', fontsize=20)\n",
        "plt.xlabel('Distribution channel',fontsize=15)\n",
        "plt.ylabel('ADR', fontsize=15)"
      ],
      "metadata": {
        "id": "Vd6jaf1Fwq_n"
      },
      "execution_count": null,
      "outputs": []
    },
    {
      "cell_type": "markdown",
      "source": [
        "##### 1. Why did you pick the specific chart?"
      ],
      "metadata": {
        "id": "ylSl6qgtp1ck"
      }
    },
    {
      "cell_type": "markdown",
      "source": [
        "I choose here barplot to visualise ADR across distribution channel beacuse it give easy to undertand visualization to large data."
      ],
      "metadata": {
        "id": "m2xqNkiQp1ck"
      }
    },
    {
      "cell_type": "markdown",
      "source": [
        "##### 2. What is/are the insight(s) found from the chart?"
      ],
      "metadata": {
        "id": "ZWILFDl5p1ck"
      }
    },
    {
      "cell_type": "markdown",
      "source": [
        "The insight found from the above chart is that GDS channel contributed most in ADR in city hotel and Direct and TA/TO has nearly equal contribution in adr in both hotel types."
      ],
      "metadata": {
        "id": "x-lUsV2mp1ck"
      }
    },
    {
      "cell_type": "markdown",
      "source": [
        "##### 3. Will the gained insights help creating a positive business impact?\n",
        "Are there any insights that lead to negative growth? Justify with specific reason."
      ],
      "metadata": {
        "id": "M7G43BXep1ck"
      }
    },
    {
      "cell_type": "markdown",
      "source": [
        "* GDS distribution channel contributed more to adr for city hotel and Undefined distribution channel contributed more to adr for resort hotel this makes positive impact.\n",
        "* GDS distribution channel has no any contribution to adr for resort hotel and undefined distribution channel contributed less to adr for city hotel this makes neative impact.\n",
        "* GDS distribution channel must have increase bookings for resort hotels therefore there contribtuion to adr will increase and income will increase and undefined distribution channel must have increase bookings for city hotels therefore there contribution to adr will increase and income will increase."
      ],
      "metadata": {
        "id": "5wwDJXsLp1cl"
      }
    },
    {
      "cell_type": "markdown",
      "source": [
        "#### Chart - 12"
      ],
      "metadata": {
        "id": "Ag9LCva-p1cl"
      }
    },
    {
      "cell_type": "markdown",
      "source": [
        "12) What is optimal stay length in both types of hotel?"
      ],
      "metadata": {
        "id": "cHAb09Bixe_I"
      }
    },
    {
      "cell_type": "code",
      "source": [
        "# Chart - 12 visualization code\n",
        "stay_length = H_df.groupby(['total_stay_in_nights','hotel']).agg('count').reset_index()\n",
        "stay_length = stay_length.iloc[:, :3]\n",
        "stay_length = stay_length.rename(columns={'is_canceled':'Number of stays'})\n",
        "stay_length"
      ],
      "metadata": {
        "id": "EUfxeq9-p1cl"
      },
      "execution_count": null,
      "outputs": []
    },
    {
      "cell_type": "code",
      "source": [
        "# Barplot is used for visualization of optimal stay length in hotel type\n",
        "plt.figure(figsize=(14,8))\n",
        "sns.barplot(x='total_stay_in_nights',y='Number of stays', data=stay_length,hue='hotel')\n",
        "plt.title('Optimal Stay Length in Both hotel types', fontsize=20)\n",
        "plt.xlabel('total_stay in days',fontsize=15)\n",
        "plt.ylabel('count of stays', fontsize=15)\n",
        "plt.show()"
      ],
      "metadata": {
        "id": "aCH2arytyVrV"
      },
      "execution_count": null,
      "outputs": []
    },
    {
      "cell_type": "markdown",
      "source": [
        "##### 1. Why did you pick the specific chart?"
      ],
      "metadata": {
        "id": "E6MkPsBcp1cl"
      }
    },
    {
      "cell_type": "markdown",
      "source": [
        "Because it gives simple visualization."
      ],
      "metadata": {
        "id": "V22bRsFWp1cl"
      }
    },
    {
      "cell_type": "markdown",
      "source": [
        "##### 2. What is/are the insight(s) found from the chart?"
      ],
      "metadata": {
        "id": "2cELzS2fp1cl"
      }
    },
    {
      "cell_type": "markdown",
      "source": [
        "Optimal stay length in both hotel type is less than 7 days."
      ],
      "metadata": {
        "id": "ozQPc2_Ip1cl"
      }
    },
    {
      "cell_type": "markdown",
      "source": [
        "\n",
        "\n",
        "### Chart -13\n",
        "\n"
      ],
      "metadata": {
        "id": "7AYghnf9y3bn"
      }
    },
    {
      "cell_type": "markdown",
      "source": [
        "13) Data in histgram format?"
      ],
      "metadata": {
        "id": "0by5ohWMzHU0"
      }
    },
    {
      "cell_type": "code",
      "source": [
        "H_df.hist(figsize=(24,18))\n",
        "plt.show()"
      ],
      "metadata": {
        "id": "vVk38h-x0qWD"
      },
      "execution_count": null,
      "outputs": []
    },
    {
      "cell_type": "markdown",
      "source": [
        "#####1. Why did you pick the specific chart?"
      ],
      "metadata": {
        "id": "fxgfI2Xv0A-z"
      }
    },
    {
      "cell_type": "markdown",
      "source": [
        "To understanding the data in clear way with proper insights,I have used the histogram here. it is used to summarize discrete or continued data that are measured on an interval scale . It is often used to ilustrate the major feautures of the distrubtion of the data in convenient form.it is alsouseful when dealing with alrger data set (greater than 100 observation).It can help detect any unusual observation(outliers) or any gaps in the data.Thus we have used the histogramplot to analysis the variable distribution over the whole dataset whether it's symmetric or not."
      ],
      "metadata": {
        "id": "nDZaBFrI0z2r"
      }
    },
    {
      "cell_type": "markdown",
      "source": [
        "##### 2. What is/are the insight(s) found from the chart?"
      ],
      "metadata": {
        "id": "1E6Tbc6W0dKc"
      }
    },
    {
      "cell_type": "markdown",
      "source": [
        "We can see that the maximum guest came in the year 2016 Maximum arrival week number is 30. Maximum arrival happens in the last of the month.Maximum guests comes with no children.There is very less requriement of car parking spaces."
      ],
      "metadata": {
        "id": "P-vMZMZ71IOy"
      }
    },
    {
      "cell_type": "markdown",
      "source": [
        "#####3. Will the gained insights help creating a positive business impact?"
      ],
      "metadata": {
        "id": "vrdZ9AA-1Z_x"
      }
    },
    {
      "cell_type": "markdown",
      "source": [
        "Just histogram cannot define business impact it's done just to see the distribution of the column data over the dataset."
      ],
      "metadata": {
        "id": "fIjWqYso1dlK"
      }
    },
    {
      "cell_type": "markdown",
      "source": [
        "#### Chart - 14 - Correlation Heatmap"
      ],
      "metadata": {
        "id": "NC_X3p0fY2L0"
      }
    },
    {
      "cell_type": "markdown",
      "source": [
        "14) create correlation heatmap?"
      ],
      "metadata": {
        "id": "btpJ6CTj_lFs"
      }
    },
    {
      "cell_type": "code",
      "source": [
        "# Correlation Heatmap visualization code\n",
        "plt.figure(figsize=(20,10))\n",
        "cmap = sns.color_palette(\"Blues\")\n",
        "sns.heatmap(H_df.corr(),annot=True,cmap=cmap)\n",
        "plt.title('Co-relation of the clumns',fontsize = 15)"
      ],
      "metadata": {
        "id": "xyC9zolEZNRQ"
      },
      "execution_count": null,
      "outputs": []
    },
    {
      "cell_type": "markdown",
      "source": [
        "##### 1. Why did you pick the specific chart?"
      ],
      "metadata": {
        "id": "UV0SzAkaZNRQ"
      }
    },
    {
      "cell_type": "markdown",
      "source": [
        "To understand the relationsip between different numerical value"
      ],
      "metadata": {
        "id": "DVPuT8LYZNRQ"
      }
    },
    {
      "cell_type": "markdown",
      "source": [
        "##### 2. What is/are the insight(s) found from the chart?"
      ],
      "metadata": {
        "id": "YPEH6qLeZNRQ"
      }
    },
    {
      "cell_type": "markdown",
      "source": [
        "Highest corelation value between axis is 95% positive & lowest corelation value between the axis is -51% negative."
      ],
      "metadata": {
        "id": "bfSqtnDqZNRR"
      }
    },
    {
      "cell_type": "markdown",
      "source": [
        "#### Chart - 15 - Pair Plot"
      ],
      "metadata": {
        "id": "q29F0dvdveiT"
      }
    },
    {
      "cell_type": "markdown",
      "source": [
        "15) create pair plot?"
      ],
      "metadata": {
        "id": "1IrTATQa_zb1"
      }
    },
    {
      "cell_type": "code",
      "source": [
        "# Pair Plot visualization code\n",
        "plt.figure(figsize=(400,500))\n",
        "pd.plotting.scatter_matrix(H_df, figsize=(10,10),color='pink')\n",
        "plt.show()"
      ],
      "metadata": {
        "id": "o58-TEIhveiU"
      },
      "execution_count": null,
      "outputs": []
    },
    {
      "cell_type": "markdown",
      "source": [
        "##### 1. Why did you pick the specific chart?"
      ],
      "metadata": {
        "id": "EXh0U9oCveiU"
      }
    },
    {
      "cell_type": "markdown",
      "source": [
        "Pair plot is used to understand the best set of features to explain a relationship between varibles or to from the most separated clusters if also helps to from some simple classification models by drawing some simple or make linear separation in our data set."
      ],
      "metadata": {
        "id": "eMmPjTByveiU"
      }
    },
    {
      "cell_type": "markdown",
      "source": [
        "##### 2. What is/are the insight(s) found from the chart?"
      ],
      "metadata": {
        "id": "22aHeOlLveiV"
      }
    },
    {
      "cell_type": "markdown",
      "source": [
        "We have found the realtionship of its reapated guest with different types of columns so, generally this chart effects the realtionship of a particular column with a other column."
      ],
      "metadata": {
        "id": "uPQ8RGwHveiV"
      }
    },
    {
      "cell_type": "markdown",
      "source": [
        "## **5. Solution to Business Objective**"
      ],
      "metadata": {
        "id": "JcMwzZxoAimU"
      }
    },
    {
      "cell_type": "markdown",
      "source": [
        "#### What do you suggest the client to achieve Business Objective ?\n",
        "Explain Briefly."
      ],
      "metadata": {
        "id": "8G2x9gOozGDZ"
      }
    },
    {
      "cell_type": "markdown",
      "source": [
        "**1) To increase hotel business some factors are important like high revenue, generation, customers satisfaction, facilities provided by hotel etc.**\n",
        "\n",
        "**2) I am able to achieve the same things by showing to client which hotel is most preferred , percentage of repeated guests, mostly\n",
        "preferred food by guests, then which hotel has highest adr etc.**\n",
        "\n",
        "**3) Most preferred room type is achieved by countplot so the client can be well prepare in advance and this insight help client for further enhancement of their hospatility.**\n",
        "\n",
        "**4) I am able to show which food type is mostly preferred so client can offer the mostly preferred food to the guests.**\n",
        "\n",
        "**5) Most preferred month are shown by barplot so client can be well prepared in advanced so that minimum grivances would be faced by client.**\n",
        "\n",
        "**6) Using barplot I am able to show which hotel type has high adr so client can analyse which hotel has high income.**\n",
        "\n",
        "**7) I am able to show which hotel is busiest hotel sp client can do relatable changes in facilities in less busy hotel type.**\n",
        "\n",
        "**8) I am able to show the relationship between repeated guests and previous bookings not cancelled so client can preferred repeated guests.**\n",
        "\n",
        "**9) Using barplot relationship between adr and total number of people is shown so client can preferred maximum number of people.**"
      ],
      "metadata": {
        "id": "pASKb0qOza21"
      }
    },
    {
      "cell_type": "markdown",
      "source": [
        "# **Conclusion**\n",
        "\n",
        "* **City Hotel seems to be more preferred among travellers and it also generates more revenue & profit.**\n",
        "\n",
        "* **Most number of bookings are made in July and August as compared rest of the months.**\n",
        "\n",
        "* **Room Type A is the most preferred room type among travellers.**\n",
        "\n",
        "* **Most of the guest stays for 1-4 days in the hotels.**\n",
        "\n",
        "* **City Hotel retains more number of guests.**\n",
        "\n",
        "* **Around one-fourth of the total bookings gets cancelled. More cancellations are from City Hotel.**\n",
        "\n",
        "* **New guest tends to cancel bookings more than repeated customers.**\n",
        "\n",
        "* **Lead time, number of days in waiting list or assignation of reserved room to customer does not affect cancellation of bookings.**\n",
        "\n",
        "* **Corporate has the most percentage of repeated guests while TA/TO has the least whereas in the case of cancelled bookings TA/TO has the most percentage while Corporate has the least.**\n",
        "\n",
        "* **The length of the stay decreases as ADR increases probably to reduce the cost.**\n",
        "\n"
      ],
      "metadata": {
        "id": "gCX9965dhzqZ"
      }
    },
    {
      "cell_type": "markdown",
      "source": [
        "### ***Hurrah! You have successfully completed your EDA Capstone Project !!!***"
      ],
      "metadata": {
        "id": "gIfDvo9L0UH2"
      }
    }
  ]
}